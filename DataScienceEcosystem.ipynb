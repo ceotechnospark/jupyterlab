{
 "cells": [
  {
   "cell_type": "markdown",
   "id": "c8d76d3b-a49c-4abb-89ed-9ea4666b9fcc",
   "metadata": {
    "tags": []
   },
   "source": [
    "<h1> Data Science Tools and Ecosystem </h1>"
   ]
  },
  {
   "cell_type": "markdown",
   "id": "82eba39e-640d-4fc9-b2ac-b1cbed534f41",
   "metadata": {},
   "source": [
    "<p>In this notebook, Data Science Tools and Ecosystem are summarized.<p>"
   ]
  },
  {
   "cell_type": "markdown",
   "id": "843d08fe-4877-4d80-ade2-855eb4eadf9a",
   "metadata": {},
   "source": [
    "<p><strong>Objectives</p>\n",
    "<ul>\n",
    "    <li>List of popular languages</li>\n",
    "    <li>Commonly used data science libraries </li>\n",
    "    <li>Data science tools</li>\n",
    "    <li>Evaluating arithmetic expressions in Python</li>\n",
    "</ul>"
   ]
  },
  {
   "cell_type": "markdown",
   "id": "86c9c37f-c279-4f5b-a47b-3b187b709d2d",
   "metadata": {},
   "source": [
    "<p>Some of the popular languages that Data Scientists use are:</p>\n",
    "<ol>\n",
    "    <li>Python</li>\n",
    "    <li>R</li>\n",
    "    <li>Julia</li>\n",
    "</ol>\n",
    "    "
   ]
  },
  {
   "cell_type": "markdown",
   "id": "ee245fe4-2d91-485d-8eaf-69d95d0dd308",
   "metadata": {},
   "source": [
    "<p>Some of the commonly used libraries used by Data Scientists include:</p>\n",
    "<p>Commonly used libraries in data science.</p>\n",
    "<ol>\n",
    "    <li>NumPy</li>\n",
    "    <li>SciPy</li>\n",
    "    <li>Pandas</li>\n",
    "    <li>SciKit-Learn</li>\n",
    "    <li>Keras</li>\n",
    "</ol>    "
   ]
  },
  {
   "cell_type": "markdown",
   "id": "ea5dd371-260a-433a-9a67-f68d2909d94a",
   "metadata": {},
   "source": [
    "<table style=\"width:20%\">\n",
    "    <tr><th>Data Science Tools</th></tr>\n",
    "    <tr><td>Apache Spark</td></tr>\n",
    "    <tr><td>RStudio</td></tr>\n",
    "    <tr><td>ggplot2</td></tr>\n",
    "    <tr><td>TensorFlow</td></tr>\n",
    "    <tr><td>SAS</td></tr>\n",
    "    <tr>\n",
    "</table>\n",
    "    "
   ]
  },
  {
   "cell_type": "markdown",
   "id": "ed7c25d7-0f7d-4d63-84b7-412bcc0d9654",
   "metadata": {},
   "source": [
    "<h3>Below are a few examples of evaluating arithmetic expressions in Python</h3>\n"
   ]
  },
  {
   "cell_type": "code",
   "execution_count": 6,
   "id": "e9855cb7-386f-45a0-8fcb-aef746386e08",
   "metadata": {},
   "outputs": [
    {
     "data": {
      "text/plain": [
       "17"
      ]
     },
     "execution_count": 6,
     "metadata": {},
     "output_type": "execute_result"
    }
   ],
   "source": [
    "(3*4)+5 #This a simple arithmetic expression to mutiply then add integers\n"
   ]
  },
  {
   "cell_type": "code",
   "execution_count": 7,
   "id": "e86a4113-c0d5-4202-85f5-5767c7bc0c85",
   "metadata": {},
   "outputs": [
    {
     "name": "stdout",
     "output_type": "stream",
     "text": [
      "3.3333333333333335\n"
     ]
    }
   ],
   "source": [
    "#This will convert 200 minutes to hours by diving by 60\n",
    "minutes =200;\n",
    "hours = minutes/60;\n",
    "print(hours)"
   ]
  },
  {
   "cell_type": "markdown",
   "id": "8958efb0-b2d0-4015-aee3-2ca9592cc74e",
   "metadata": {},
   "source": [
    "<h2> Author</h2>\n",
    "<p>Waseem Abbass</p>"
   ]
  },
  {
   "cell_type": "code",
   "execution_count": null,
   "id": "0400bc79-94b9-49db-a9c1-d27a01469563",
   "metadata": {},
   "outputs": [],
   "source": []
  }
 ],
 "metadata": {
  "kernelspec": {
   "display_name": "Python",
   "language": "python",
   "name": "conda-env-python-py"
  },
  "language_info": {
   "codemirror_mode": {
    "name": "ipython",
    "version": 3
   },
   "file_extension": ".py",
   "mimetype": "text/x-python",
   "name": "python",
   "nbconvert_exporter": "python",
   "pygments_lexer": "ipython3",
   "version": "3.7.12"
  }
 },
 "nbformat": 4,
 "nbformat_minor": 5
}
